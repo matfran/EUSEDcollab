{
 "cells": [
  {
   "cell_type": "markdown",
   "id": "07e66078",
   "metadata": {},
   "source": [
    "This notebook gives a simple example of how Google Earth Engine can be leveraged to extract additional information for the EUSEDcollab station points. To run this notebook will require the python packages (listed in the cell below) to be installed in a local environment in addition to a Google Earth Engine account. Introductory information can be found at the following site: https://geemap.org/. This example is based on the tutorial:\n",
    "https://geemap.org/notebooks/43_extract_values_to_points/"
   ]
  },
  {
   "cell_type": "code",
   "execution_count": 1,
   "id": "6aab5197",
   "metadata": {},
   "outputs": [
    {
     "ename": "ModuleNotFoundError",
     "evalue": "No module named 'geemap'",
     "output_type": "error",
     "traceback": [
      "\u001b[1;31m---------------------------------------------------------------------------\u001b[0m",
      "\u001b[1;31mModuleNotFoundError\u001b[0m                       Traceback (most recent call last)",
      "\u001b[1;32m~\\AppData\\Local\\Temp/ipykernel_5452/2961380174.py\u001b[0m in \u001b[0;36m<module>\u001b[1;34m\u001b[0m\n\u001b[1;32m----> 1\u001b[1;33m \u001b[1;32mimport\u001b[0m \u001b[0mgeemap\u001b[0m\u001b[1;33m\u001b[0m\u001b[1;33m\u001b[0m\u001b[0m\n\u001b[0m\u001b[0;32m      2\u001b[0m \u001b[1;32mimport\u001b[0m \u001b[0mos\u001b[0m\u001b[1;33m\u001b[0m\u001b[1;33m\u001b[0m\u001b[0m\n\u001b[0;32m      3\u001b[0m \u001b[1;32mimport\u001b[0m \u001b[0mee\u001b[0m\u001b[1;33m\u001b[0m\u001b[1;33m\u001b[0m\u001b[0m\n\u001b[0;32m      4\u001b[0m \u001b[1;32mimport\u001b[0m \u001b[0mgeopandas\u001b[0m \u001b[1;32mas\u001b[0m \u001b[0mgpd\u001b[0m\u001b[1;33m\u001b[0m\u001b[1;33m\u001b[0m\u001b[0m\n",
      "\u001b[1;31mModuleNotFoundError\u001b[0m: No module named 'geemap'"
     ]
    }
   ],
   "source": [
    "import geemap\n",
    "import os\n",
    "import ee\n",
    "import geopandas as gpd"
   ]
  },
  {
   "cell_type": "markdown",
   "id": "2b35256b",
   "metadata": {},
   "source": [
    "Here we can define the path to the shapefile of EUSEDcollab monitoring station points. If this notebook is placed in the EUSEDcollab parent directory, the relevant file will be directly read. Otherwise the shapefile path will need to be specified."
   ]
  },
  {
   "cell_type": "code",
   "execution_count": 6,
   "id": "39194323",
   "metadata": {},
   "outputs": [
    {
     "name": "stdout",
     "output_type": "stream",
     "text": [
      "C:\\Users\\u0133999\\OneDrive - KU Leuven\\PhD\\EUSO_working_group\\EUSEDcollab_publication\\EUSEDcollab_data_repository\\ADDITIONAL_FILES\\EUSEDcollab_points.shp\n"
     ]
    }
   ],
   "source": [
    "#define the local path to the EUSEDcollab directory \n",
    "dir_ = os.getcwd()\n",
    "#define the sub-directory with the additional information\n",
    "points_dir = os.path.join(dir_, 'ADDITIONAL_FILES')\n",
    "in_shp = os.path.join(points_dir, 'EUSEDcollab_station_points.shp')\n",
    "print(in_shp)"
   ]
  },
  {
   "cell_type": "markdown",
   "id": "752547e7",
   "metadata": {},
   "source": [
    "Initiate a map so that we can later visualise data."
   ]
  },
  {
   "cell_type": "code",
   "execution_count": null,
   "id": "bfc2d03a",
   "metadata": {},
   "outputs": [],
   "source": [
    "Map = geemap.Map()\n",
    "Map"
   ]
  },
  {
   "cell_type": "markdown",
   "id": "013b726f",
   "metadata": {},
   "source": [
    "Add a SRTM layer to the map from Google Earth Engine"
   ]
  },
  {
   "cell_type": "code",
   "execution_count": null,
   "id": "d35c686f",
   "metadata": {},
   "outputs": [],
   "source": [
    "# Add Earth Engine dataset\n",
    "dem = ee.Image('USGS/SRTMGL1_003')\n",
    "\n",
    "# Set visualization parameters.\n",
    "vis_params = {\n",
    "    'min': 0,\n",
    "    'max': 4000,\n",
    "    'palette': ['006633', 'E5FFCC', '662A00', 'D8D8D8', 'F5F5F5'],\n",
    "}\n",
    "\n",
    "Map.addLayer(dem, vis_params, 'SRTM DEM', True, 1)"
   ]
  },
  {
   "cell_type": "markdown",
   "id": "40fa03e0",
   "metadata": {},
   "source": [
    "Here we create layers of the annual sum of the monthly precipitation and the mean annual average temperature. We can later extract the point values from these."
   ]
  },
  {
   "cell_type": "code",
   "execution_count": null,
   "id": "30d3337e",
   "metadata": {},
   "outputs": [],
   "source": [
    "rainfall_collection = ee.ImageCollection('WORLDCLIM/V1/MONTHLY')\n",
    "#get the sum of the average monthly precipitation\n",
    "rainfall_year = rainfall_collection.select('prec').sum()\n",
    "#get the mean temperature and unscale the value\n",
    "temp_mean = rainfall_collection.select('tavg').mean().multiply(0.1)"
   ]
  },
  {
   "cell_type": "markdown",
   "id": "9b548be7",
   "metadata": {},
   "source": [
    "Here we read in the EUSEDcollab points shapefile which defines the points at which we will extract the raster pixel values."
   ]
  },
  {
   "cell_type": "code",
   "execution_count": null,
   "id": "db2cad35",
   "metadata": {},
   "outputs": [],
   "source": [
    "in_fc = geemap.shp_to_ee(in_shp)\n",
    "Map.addLayer(in_fc, {}, 'EUSEDcollab points')"
   ]
  },
  {
   "cell_type": "markdown",
   "id": "bb1e0030",
   "metadata": {},
   "source": [
    "The next 3 cells extract the raster pixel values and save them to a local .csv file. These can then be compiled and used alongside the database to provide auxillary information for additional analyses. Google Earth Engine contains a large number of ready-to-use datasets that can facilitate large scale analyses without downloading large amounts of data locally. A large number of tutorials in python can be found on the following webpage: https://geemap.org/"
   ]
  },
  {
   "cell_type": "code",
   "execution_count": null,
   "id": "a165675f",
   "metadata": {
    "scrolled": true
   },
   "outputs": [],
   "source": [
    "out_csv = os.path.join(points_dir, 'dem_vals.csv')\n",
    "geemap.extract_values_to_points(in_fc, dem, out_csv)"
   ]
  },
  {
   "cell_type": "code",
   "execution_count": null,
   "id": "a25f3376",
   "metadata": {},
   "outputs": [],
   "source": [
    "precip_csv = os.path.join(points_dir, 'precip_vals.csv')\n",
    "geemap.extract_values_to_points(in_fc, rainfall_year, precip_csv, scale = 1000)"
   ]
  },
  {
   "cell_type": "code",
   "execution_count": null,
   "id": "eff8c1e9",
   "metadata": {},
   "outputs": [],
   "source": [
    "tmean_csv = os.path.join(points_dir, 'tmean_vals.csv')\n",
    "geemap.extract_values_to_points(in_fc, temp_mean, tmean_csv, scale = 1000)"
   ]
  }
 ],
 "metadata": {
  "kernelspec": {
   "display_name": "Python 3 (ipykernel)",
   "language": "python",
   "name": "python3"
  },
  "language_info": {
   "codemirror_mode": {
    "name": "ipython",
    "version": 3
   },
   "file_extension": ".py",
   "mimetype": "text/x-python",
   "name": "python",
   "nbconvert_exporter": "python",
   "pygments_lexer": "ipython3",
   "version": "3.9.7"
  }
 },
 "nbformat": 4,
 "nbformat_minor": 5
}
